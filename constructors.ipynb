{
 "cells": [
  {
   "cell_type": "markdown",
   "id": "assumed-aside",
   "metadata": {},
   "source": [
    "A constructor is a special type of method (function) which is used to initialize the instance members of the class.\n",
    "\n",
    "Types \n",
    "\n",
    "1.Parameterized Constructor\n",
    "\n",
    "2.Non-parameterized Constructor"
   ]
  },
  {
   "cell_type": "code",
   "execution_count": 2,
   "id": "radio-analysis",
   "metadata": {},
   "outputs": [
    {
     "name": "stdout",
     "output_type": "stream",
     "text": [
      "ID:100 \n",
      "Name: john\n",
      "ID:200 \n",
      "Name: david\n"
     ]
    }
   ],
   "source": [
    "#Creating a constructor\n",
    "class employee:\n",
    "    def __init__(self,name,id):\n",
    "        self.id=id\n",
    "        self.name=name\n",
    "        \n",
    "    def display(self):\n",
    "        print(\"ID:%d \\nName: %s\" % (self.id,self.name))\n",
    "        \n",
    "emp1=employee(\"john\",100)\n",
    "emp2=employee(\"david\",200)\n",
    "\n",
    "emp1.display()\n",
    "\n",
    "emp2.display()\n",
    "\n",
    "# the method the __init__() simulates the constructor of the class. This method is called when the class is instantiated. \n",
    "#It accepts the self-keyword as a first argument which allows accessing the attributes or method of the class.\n"
   ]
  },
  {
   "cell_type": "code",
   "execution_count": 3,
   "id": "annual-stack",
   "metadata": {},
   "outputs": [
    {
     "name": "stdout",
     "output_type": "stream",
     "text": [
      "The number of students: 3\n"
     ]
    }
   ],
   "source": [
    "#a constructor is called automatically when the object is instanciated of the class\n",
    "class Student:    \n",
    "    count = 0    \n",
    "    def __init__(self):    \n",
    "        Student.count = Student.count + 1    \n",
    "s1=Student()    \n",
    "s2=Student()    \n",
    "s3=Student()    \n",
    "print(\"The number of students:\",Student.count)   "
   ]
  },
  {
   "cell_type": "markdown",
   "id": "rental-hospital",
   "metadata": {},
   "source": [
    "## Non-parameterized contructor "
   ]
  },
  {
   "cell_type": "markdown",
   "id": "molecular-hollow",
   "metadata": {},
   "source": [
    "The non-parameterized constructor uses when we do not want to manipulate the value or the constructor that has only self as an argument. Consider the following example."
   ]
  },
  {
   "cell_type": "code",
   "execution_count": 4,
   "id": "referenced-blind",
   "metadata": {},
   "outputs": [
    {
     "name": "stdout",
     "output_type": "stream",
     "text": [
      "This is non parametrized constructor\n",
      "Hello John\n"
     ]
    }
   ],
   "source": [
    "class Student:  \n",
    "    # Constructor - non parameterized  \n",
    "    def __init__(self):  \n",
    "        print(\"This is non parametrized constructor\")  \n",
    "    def show(self,name):  \n",
    "        print(\"Hello\",name)  \n",
    "student = Student()  \n",
    "student.show(\"John\")  "
   ]
  },
  {
   "cell_type": "markdown",
   "id": "medical-river",
   "metadata": {},
   "source": [
    "##  Parameterized Constructor"
   ]
  },
  {
   "cell_type": "markdown",
   "id": "loving-composite",
   "metadata": {},
   "source": [
    "he parameterized constructor has multiple parameters along with the self"
   ]
  },
  {
   "cell_type": "code",
   "execution_count": 5,
   "id": "straight-integration",
   "metadata": {},
   "outputs": [
    {
     "name": "stdout",
     "output_type": "stream",
     "text": [
      "This is parametrized constructor\n",
      "Hello John\n"
     ]
    }
   ],
   "source": [
    "class Student:  \n",
    "    # Constructor - parameterized  \n",
    "    def __init__(self, name):  \n",
    "        print(\"This is parametrized constructor\")  \n",
    "        self.name = name  \n",
    "    def show(self):  \n",
    "        print(\"Hello\",self.name)  \n",
    "student = Student(\"John\")  \n",
    "student.show()    "
   ]
  },
  {
   "cell_type": "markdown",
   "id": "prostate-point",
   "metadata": {},
   "source": [
    "## Default Constructor "
   ]
  },
  {
   "cell_type": "markdown",
   "id": "silent-sandwich",
   "metadata": {},
   "source": [
    "When we do not include the constructor in the class or forget to declare it, then that becomes the default constructor. It does not perform any task but initializes the objects."
   ]
  },
  {
   "cell_type": "code",
   "execution_count": 6,
   "id": "smart-future",
   "metadata": {},
   "outputs": [
    {
     "name": "stdout",
     "output_type": "stream",
     "text": [
      "101 Joseph\n"
     ]
    }
   ],
   "source": [
    "class Student:  \n",
    "    roll_num = 101  \n",
    "    name = \"Joseph\"  \n",
    "  \n",
    "    def display(self):  \n",
    "        print(self.roll_num,self.name)  \n",
    "  \n",
    "st = Student()  \n",
    "st.display()  "
   ]
  },
  {
   "cell_type": "markdown",
   "id": "settled-limit",
   "metadata": {},
   "source": [
    "## more than one contructor in single class "
   ]
  },
  {
   "cell_type": "code",
   "execution_count": 7,
   "id": "bright-expansion",
   "metadata": {},
   "outputs": [
    {
     "name": "stdout",
     "output_type": "stream",
     "text": [
      "The second contructor\n"
     ]
    }
   ],
   "source": [
    "class Student:  \n",
    "    def __init__(self):  \n",
    "        print(\"The First Constructor\")  \n",
    "    def __init__(self):  \n",
    "        print(\"The second contructor\")  \n",
    "  \n",
    "st = Student()  "
   ]
  },
  {
   "cell_type": "markdown",
   "id": "hearing-treasurer",
   "metadata": {},
   "source": [
    "NOTE: In the above code, the object st called the second constructor whereas both have the same configuration. The first method is not accessible by the st object. Internally, the object of the class will always call the last constructor if the class has multiple constructors."
   ]
  },
  {
   "cell_type": "markdown",
   "id": "inner-colleague",
   "metadata": {},
   "source": [
    "\n",
    "1\tgetattr(obj,name,default) ---\tIt is used to access the attribute of the object.\n",
    "\n",
    "2\tsetattr(obj, name,value) ---\tIt is used to set a particular value to the specific attribute of an object.\n",
    "\n",
    "3\tdelattr(obj, name) ---\tIt is used to delete a specific attribute.\n",
    "\n",
    "4\thasattr(obj, name) ---\tIt returns true if the object contains some specific attribute."
   ]
  },
  {
   "cell_type": "code",
   "execution_count": 8,
   "id": "handmade-junction",
   "metadata": {},
   "outputs": [
    {
     "name": "stdout",
     "output_type": "stream",
     "text": [
      "John\n",
      "23\n",
      "True\n"
     ]
    },
    {
     "ename": "AttributeError",
     "evalue": "'Student' object has no attribute 'age'",
     "output_type": "error",
     "traceback": [
      "\u001b[1;31m---------------------------------------------------------------------------\u001b[0m",
      "\u001b[1;31mAttributeError\u001b[0m                            Traceback (most recent call last)",
      "\u001b[1;32m<ipython-input-8-8811865a70d0>\u001b[0m in \u001b[0;36m<module>\u001b[1;34m\u001b[0m\n\u001b[0;32m     24\u001b[0m \u001b[1;33m\u001b[0m\u001b[0m\n\u001b[0;32m     25\u001b[0m \u001b[1;31m# this will give an error since the attribute age has been deleted\u001b[0m\u001b[1;33m\u001b[0m\u001b[1;33m\u001b[0m\u001b[1;33m\u001b[0m\u001b[0m\n\u001b[1;32m---> 26\u001b[1;33m \u001b[0mprint\u001b[0m\u001b[1;33m(\u001b[0m\u001b[0ms\u001b[0m\u001b[1;33m.\u001b[0m\u001b[0mage\u001b[0m\u001b[1;33m)\u001b[0m\u001b[1;33m\u001b[0m\u001b[1;33m\u001b[0m\u001b[0m\n\u001b[0m",
      "\u001b[1;31mAttributeError\u001b[0m: 'Student' object has no attribute 'age'"
     ]
    }
   ],
   "source": [
    "class Student:  \n",
    "    def __init__(self, name, id, age):  \n",
    "        self.name = name  \n",
    "        self.id = id  \n",
    "        self.age = age  \n",
    "  \n",
    "    # creates the object of the class Student  \n",
    "s = Student(\"John\", 101, 22)  \n",
    "  \n",
    "# prints the attribute name of the object s  \n",
    "print(getattr(s, 'name'))  \n",
    "  \n",
    "# reset the value of attribute age to 23  \n",
    "setattr(s, \"age\", 23)  \n",
    "  \n",
    "# prints the modified value of age  \n",
    "print(getattr(s, 'age'))  \n",
    "  \n",
    "# prints true if the student contains the attribute with name id  \n",
    "  \n",
    "print(hasattr(s, 'id'))  \n",
    "# deletes the attribute age  \n",
    "delattr(s, 'age')  \n",
    "  \n",
    "# this will give an error since the attribute age has been deleted  \n",
    "print(s.age)  "
   ]
  },
  {
   "cell_type": "markdown",
   "id": "infrared-regulation",
   "metadata": {},
   "source": [
    "Built-in class attributes\n",
    "Along with the other attributes, a Python class also contains some built-in class attributes which provide information about the class.\n",
    "\n",
    "The built-in class attributes are given in the below table."
   ]
  },
  {
   "cell_type": "markdown",
   "id": "static-cornwall",
   "metadata": {},
   "source": [
    "1\t__dict__ ---\tIt provides the dictionary containing the information about the class namespace.\n",
    "\n",
    "2\t__doc__\t ---   It contains a string which has the class documentation\n",
    "\n",
    "3\t__name__ ---\tIt is used to access the class name.\n",
    "\n",
    "4\t__module__ ---\tIt is used to access the module in which, this class is defined.\n",
    "\n",
    "5\t__bases__ ---\tIt contains a tuple including all base classes."
   ]
  },
  {
   "cell_type": "code",
   "execution_count": 9,
   "id": "ongoing-opposition",
   "metadata": {},
   "outputs": [
    {
     "name": "stdout",
     "output_type": "stream",
     "text": [
      "None\n",
      "{'name': 'John', 'id': 101, 'age': 22}\n",
      "__main__\n"
     ]
    }
   ],
   "source": [
    "class Student:    \n",
    "    def __init__(self,name,id,age):    \n",
    "        self.name = name;    \n",
    "        self.id = id;    \n",
    "        self.age = age    \n",
    "    def display_details(self):    \n",
    "        print(\"Name:%s, ID:%d, age:%d\"%(self.name,self.id))    \n",
    "s = Student(\"John\",101,22)    \n",
    "print(s.__doc__)    \n",
    "print(s.__dict__)    \n",
    "print(s.__module__)  "
   ]
  },
  {
   "cell_type": "code",
   "execution_count": null,
   "id": "seventh-express",
   "metadata": {},
   "outputs": [],
   "source": []
  }
 ],
 "metadata": {
  "kernelspec": {
   "display_name": "Python 3",
   "language": "python",
   "name": "python3"
  },
  "language_info": {
   "codemirror_mode": {
    "name": "ipython",
    "version": 3
   },
   "file_extension": ".py",
   "mimetype": "text/x-python",
   "name": "python",
   "nbconvert_exporter": "python",
   "pygments_lexer": "ipython3",
   "version": "3.9.1"
  },
  "varInspector": {
   "cols": {
    "lenName": 16,
    "lenType": 16,
    "lenVar": 40
   },
   "kernels_config": {
    "python": {
     "delete_cmd_postfix": "",
     "delete_cmd_prefix": "del ",
     "library": "var_list.py",
     "varRefreshCmd": "print(var_dic_list())"
    },
    "r": {
     "delete_cmd_postfix": ") ",
     "delete_cmd_prefix": "rm(",
     "library": "var_list.r",
     "varRefreshCmd": "cat(var_dic_list()) "
    }
   },
   "types_to_exclude": [
    "module",
    "function",
    "builtin_function_or_method",
    "instance",
    "_Feature"
   ],
   "window_display": false
  }
 },
 "nbformat": 4,
 "nbformat_minor": 5
}
