{
 "cells": [
  {
   "cell_type": "code",
   "execution_count": 1,
   "metadata": {},
   "outputs": [
    {
     "data": {
      "text/html": [
       "<style type='text/css'>\n",
       ".CodeMirror{\n",
       "font-size: 17px;\n",
       "</style>\n"
      ],
      "text/plain": [
       "<IPython.core.display.HTML object>"
      ]
     },
     "metadata": {},
     "output_type": "display_data"
    }
   ],
   "source": [
    "%%html\n",
    "<style type='text/css'>\n",
    ".CodeMirror{\n",
    "font-size: 17px;\n",
    "</style>"
   ]
  },
  {
   "cell_type": "code",
   "execution_count": 2,
   "metadata": {},
   "outputs": [],
   "source": [
    "class Node:\n",
    "  def __init__(self, value, next_node=None):\n",
    "    self.value = value\n",
    "    self.next_node = next_node\n",
    "    \n",
    "  def get_value(self):\n",
    "    return self.value\n",
    "  \n",
    "  def get_next_node(self):\n",
    "    return self.next_node\n",
    "  \n",
    "  def set_next_node(self, next_node):\n",
    "    self.next_node = next_node\n",
    "\n",
    "class LinkedList:\n",
    "  def __init__(self, value=None):\n",
    "    self.head_node = Node(value)\n",
    "  \n",
    "  def get_head_node(self):\n",
    "    return self.head_node\n",
    "  \n",
    "  def insert_beginning(self, new_value):\n",
    "    new_node = Node(new_value)\n",
    "    new_node.set_next_node(self.head_node)\n",
    "    self.head_node = new_node\n",
    "    \n",
    "  def stringify_list(self):\n",
    "    string_list = \"\"\n",
    "    current_node = self.get_head_node()\n",
    "    while current_node:\n",
    "      if current_node.get_value() != None:\n",
    "        string_list += str(current_node.get_value()) + \"\\n\"\n",
    "      current_node = current_node.get_next_node()\n",
    "    return string_list\n",
    "  \n",
    "  def remove_node(self, value_to_remove):\n",
    "    current_node = self.get_head_node()\n",
    "    if current_node.get_value() == value_to_remove:\n",
    "      self.head_node = current_node.get_next_node()\n",
    "    else:\n",
    "      while current_node:\n",
    "        next_node = current_node.get_next_node()\n",
    "        if next_node.get_value() == value_to_remove:\n",
    "          current_node.set_next_node(next_node.get_next_node())\n",
    "          current_node = None\n",
    "        else:\n",
    "          current_node = next_node\n"
   ]
  },
  {
   "cell_type": "code",
   "execution_count": null,
   "metadata": {},
   "outputs": [],
   "source": []
  },
  {
   "cell_type": "code",
   "execution_count": 3,
   "metadata": {},
   "outputs": [
    {
     "name": "stdout",
     "output_type": "stream",
     "text": [
      "1\n",
      "2\n",
      "3\n",
      "4\n",
      "5\n",
      "6\n",
      "7\n",
      "\n",
      "fast_pointer=2\n",
      "slow_pointer=2\n",
      "fast_pointer=4\n",
      "slow_pointer=3\n",
      "fast_pointer=6\n",
      "slow_pointer=4\n",
      "fast_pointer=None\n",
      "4\n"
     ]
    }
   ],
   "source": [
    "\n",
    "def find_middle(linked_list):\n",
    "  fast_pointer = linked_list.head_node\n",
    "  slow_pointer = linked_list.head_node\n",
    "  while fast_pointer.get_value() is not None:\n",
    "    fast_pointer = fast_pointer.get_next_node()\n",
    "    print(\"fast_pointer=\"+str(fast_pointer.get_value()))\n",
    "    if fast_pointer.get_value() is not None:\n",
    "      fast_pointer = fast_pointer.get_next_node()\n",
    "      slow_pointer = slow_pointer.get_next_node()\n",
    "      print(\"slow_pointer=\"+str(slow_pointer.get_value()))\n",
    "  return slow_pointer\n",
    "\n",
    "#time complexity is O(n) and space complexity is O(1)\n",
    "\n",
    "# ------------------------------------- alternate solution----------------------------------------------------------------\n",
    "\n",
    "# def find_middle_alt(linked_list):\n",
    "#   count = 1\n",
    "#   fast = linked_list.head_node\n",
    "#   slow = linked_list.head_node\n",
    "#   while fast:\n",
    "#     fast = fast.get_next_node()\n",
    "#     if count % 2 != 0:\n",
    "#       slow = slow.get_next_node()\n",
    "#     count += 1\n",
    "#   print(slow,count)\n",
    "#   return slow\n",
    "\n",
    "def generate_test_linked_list(length):\n",
    "  linked_list = LinkedList()\n",
    "  for i in range(length, 0, -1):\n",
    "    linked_list.insert_beginning(i)\n",
    "  return linked_list\n",
    "\n",
    "# Use this to test your code:\n",
    "\n",
    "test_list = generate_test_linked_list(7)\n",
    "print(test_list.stringify_list())\n",
    "middle_node = find_middle(test_list)\n",
    "print(middle_node.value)\n",
    "\n",
    "# test_list = generate_test_linked_list(7)\n",
    "# print(test_list.stringify_list())\n",
    "# middle_node = find_middle_alt(test_list)\n",
    "# print(middle_node.value)\n"
   ]
  },
  {
   "cell_type": "code",
   "execution_count": 4,
   "metadata": {},
   "outputs": [
    {
     "name": "stdout",
     "output_type": "stream",
     "text": [
      "4\n"
     ]
    }
   ],
   "source": [
    "print(middle_node.value)"
   ]
  },
  {
   "cell_type": "code",
   "execution_count": 5,
   "metadata": {},
   "outputs": [
    {
     "ename": "NameError",
     "evalue": "name 'find_middle_alt' is not defined",
     "output_type": "error",
     "traceback": [
      "\u001b[1;31m---------------------------------------------------------------------------\u001b[0m",
      "\u001b[1;31mNameError\u001b[0m                                 Traceback (most recent call last)",
      "\u001b[1;32m~\\AppData\\Local\\Temp/ipykernel_6652/1746046872.py\u001b[0m in \u001b[0;36m<module>\u001b[1;34m\u001b[0m\n\u001b[1;32m----> 1\u001b[1;33m \u001b[0mmiddle_node\u001b[0m \u001b[1;33m=\u001b[0m \u001b[0mfind_middle_alt\u001b[0m\u001b[1;33m(\u001b[0m\u001b[0mtest_list\u001b[0m\u001b[1;33m)\u001b[0m\u001b[1;33m\u001b[0m\u001b[1;33m\u001b[0m\u001b[0m\n\u001b[0m",
      "\u001b[1;31mNameError\u001b[0m: name 'find_middle_alt' is not defined"
     ]
    }
   ],
   "source": [
    "middle_node = find_middle_alt(test_list)"
   ]
  },
  {
   "cell_type": "code",
   "execution_count": null,
   "metadata": {},
   "outputs": [],
   "source": []
  }
 ],
 "metadata": {
  "kernelspec": {
   "display_name": "Python 3 (ipykernel)",
   "language": "python",
   "name": "python3"
  },
  "language_info": {
   "codemirror_mode": {
    "name": "ipython",
    "version": 3
   },
   "file_extension": ".py",
   "mimetype": "text/x-python",
   "name": "python",
   "nbconvert_exporter": "python",
   "pygments_lexer": "ipython3",
   "version": "3.9.6"
  }
 },
 "nbformat": 4,
 "nbformat_minor": 5
}